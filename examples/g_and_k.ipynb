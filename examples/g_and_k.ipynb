{
 "cells": [
  {
   "cell_type": "code",
   "execution_count": 1,
   "metadata": {},
   "outputs": [
    {
     "name": "stderr",
     "output_type": "stream",
     "text": [
      "/home/anyata/anaconda3/envs/py3.8_sigkernel_1/lib/python3.8/site-packages/jax/experimental/optimizers.py:28: FutureWarning: jax.experimental.optimizers is deprecated, import jax.example_libraries.optimizers instead\n",
      "  warnings.warn('jax.experimental.optimizers is deprecated, '\n",
      "WARNING:absl:No GPU/TPU found, falling back to CPU. (Set TF_CPP_MIN_LOG_LEVEL=0 and rerun for more info.)\n"
     ]
    }
   ],
   "source": [
    "%load_ext line_profiler\n",
    "%load_ext autoreload\n",
    "%autoreload 2\n",
    "\n",
    "from src.models.g_and_k_model import uni_g_and_k\n",
    "from src.scoring_rules.scoring_rules import EnergyScore\n",
    "from src.transformers import BoundedVarTransformer\n",
    "from src.sampler.sgMCMC import SGMCMC\n",
    "import torch\n",
    "import numpy as np\n",
    "import functools\n",
    "import matplotlib.pyplot as plt\n",
    "\n",
    "torch.set_default_dtype(torch.float64)"
   ]
  },
  {
   "attachments": {},
   "cell_type": "markdown",
   "metadata": {},
   "source": [
    "# Defining model and generating observations"
   ]
  },
  {
   "cell_type": "code",
   "execution_count": 41,
   "metadata": {},
   "outputs": [],
   "source": [
    "# Generate fake observation data\n",
    "theta_true = torch.tensor([3.0, 1.5, 0.5,1.5]) # True parameter values\n",
    "n_obs = 10 # Number of observations\n",
    "gk = uni_g_and_k()\n",
    "obs = gk.torch_forward_simulate(theta_true, n_obs)"
   ]
  },
  {
   "attachments": {},
   "cell_type": "markdown",
   "metadata": {},
   "source": [
    "# Usage\n",
    "We need to define a `joint_log_prob` function which calculates the log unnormalised density, otherwise known as the potential function. ($U(\\theta)$)\n",
    "$$\n",
    "\\pi(\\theta) \\sim exp(-U(\\theta))\n",
    "$$\n",
    "# Notes\n",
    "1. SGMCMC is defined only on an unconstrained space. Since our parameters are defined on a constrained space, a (logit) transformation is required. This transformation is done in the `joint_log_prob` function. The jacobian adjustment term is added in here as well.\n",
    "2. By default, the `SGMCMC` class does SG-NHT algorithm for sampling.\n",
    "3. The `SGMCMC` class uses an optimisation step (with ADAM optimisation) to first find the initial parameters. Then, to find the optimal step size, an multi-armed bandit algorithm is utilised (this can be turned off by setting `use_mamba=False` in the `sampler.sample()` function, although then a specific step size should be passed into the function). Finally, the SGMCMC algorithm is ran.\n",
    "4. The `sampler.sample()` function returns a dictionary with useful information about the inference procedure that was ran."
   ]
  },
  {
   "cell_type": "code",
   "execution_count": 42,
   "metadata": {},
   "outputs": [
    {
     "name": "stderr",
     "output_type": "stream",
     "text": [
      "100%|██████████| 250/250 [00:01<00:00, 165.92it/s]"
     ]
    },
    {
     "name": "stdout",
     "output_type": "stream",
     "text": [
      "Initial params: [ 1.14788391 -0.93886843  0.11381451 -0.19015761]\n"
     ]
    },
    {
     "name": "stderr",
     "output_type": "stream",
     "text": [
      "\n"
     ]
    },
    {
     "data": {
      "application/vnd.jupyter.widget-view+json": {
       "model_id": "3357d03685604371a4e6fea2623fc0dd",
       "version_major": 2,
       "version_minor": 0
      },
      "text/plain": [
       "  0%|          | 0/10000 [00:00<?, ?it/s]"
      ]
     },
     "metadata": {},
     "output_type": "display_data"
    }
   ],
   "source": [
    "# Transformer for parameters\n",
    "lower_limit_arr = np.array([0,0,0,0])\n",
    "upper_limit_arr = np.array([4,4,4,4])\n",
    "bounded_trans = BoundedVarTransformer(lower_bound=lower_limit_arr, upper_bound=upper_limit_arr)\n",
    "\n",
    "# Scoring Rule\n",
    "es = EnergyScore(weight=1)\n",
    "\n",
    "# Model\n",
    "gk = uni_g_and_k()\n",
    "\n",
    "# Build joint log prob function\n",
    "def joint_log_prob(param_torch_unconstrained, obs, model, scoring_rule, transformer, n_samples_per_param=500):\n",
    "    # 1. Transform to constrained space\n",
    "    # 2. Calculate LAJ (unconstrained)\n",
    "    # 3. Calculate log prior (constrained)\n",
    "    # 4. Calculate log likelihood / score (constrained) (weights should be init in the scoring rule class)\n",
    "\n",
    "    param_torch_constrained = transformer.inverse_transform(param_torch_unconstrained, use_torch=True)\n",
    "\n",
    "    # LAJ\n",
    "    laj = transformer.jac_log_det_inverse_transform(param_torch_unconstrained, use_torch=True)\n",
    "\n",
    "    # Log prior\n",
    "    log_prior = 0 # Uniform prior is assumed\n",
    "\n",
    "    # Log likelihood    \n",
    "    sims = model.torch_forward_simulate(param_torch_constrained, n_samples_per_param)\n",
    "    log_ll = scoring_rule.loglikelihood(y_obs = obs, y_sim = sims, use_torch=True)\n",
    "    model.scores.append(log_ll.detach()) #Detach otherwise mem explodes!\n",
    "    return laj + log_prior + log_ll\n",
    "\n",
    "\n",
    "joint_log_prob_func = functools.partial(joint_log_prob, model=gk, scoring_rule=es, transformer=bounded_trans)\n",
    "\n",
    "# Sampler\n",
    "sampler = SGMCMC(gk, observations=obs, joint_log_prob=joint_log_prob_func, transformer=bounded_trans, n_samples=10000)\n",
    "\n",
    "op = sampler.sample(use_mamba=False)"
   ]
  },
  {
   "attachments": {},
   "cell_type": "markdown",
   "metadata": {},
   "source": [
    "# Plots"
   ]
  },
  {
   "cell_type": "code",
   "execution_count": 43,
   "metadata": {},
   "outputs": [
    {
     "data": {
      "image/png": "[encoded data removed]",
      "text/plain": [
       "<Figure size 1080x360 with 4 Axes>"
      ]
     },
     "metadata": {
      "needs_background": "light"
     },
     "output_type": "display_data"
    }
   ],
   "source": [
    "samples = bounded_trans.inverse_transform(op['samples_uncon'], use_torch=True)\n",
    "\n",
    "fig, axes = plt.subplots(nrows=1, ncols=4, figsize=(15,5))\n",
    "\n",
    "for idx, ax in enumerate(axes):\n",
    "    ax.hist(samples[-5000:, idx].numpy(), bins=50, label=f\"theta_{idx}\")\n",
    "    ax.set_xbound(lower=0,upper=4)\n",
    "    ax.legend()\n",
    "    ax.axvline(x=theta_true[idx].numpy(), c='r')\n",
    "\n",
    "plt.show()"
   ]
  }
 ],
 "metadata": {
  "kernelspec": {
   "display_name": "Python 3.8.13 ('py3.8_sigkernel_1')",
   "language": "python",
   "name": "python3"
  },
  "language_info": {
   "codemirror_mode": {
    "name": "ipython",
    "version": 3
   },
   "file_extension": ".py",
   "mimetype": "text/x-python",
   "name": "python",
   "nbconvert_exporter": "python",
   "pygments_lexer": "ipython3",
   "version": "3.8.13"
  },
  "orig_nbformat": 4,
  "vscode": {
   "interpreter": {
    "hash": "213c99d5eca6d51a3e18768ad81a460afa8debcd534e14665bf23564017a28cb"
   }
  }
 },
 "nbformat": 4,
 "nbformat_minor": 2
}
